{
 "cells": [
  {
   "cell_type": "code",
   "execution_count": 1,
   "id": "ba45c7e2",
   "metadata": {},
   "outputs": [
    {
     "name": "stdout",
     "output_type": "stream",
     "text": [
      "{'\"': True, '6': True, ':': True, '这': True, '个': True, '副': True, '编': True, '长': True, '得': True, '好': True, '可': True, '爱': True, '哈': True, ',': True, '\\n': True, '7': True, '牛': True, '！': True, '8': True, 't': True, 'a': True, 'b': True, 'e': True, '？': True, '2': True, '1': True, '花': True, '海': True, '：': True, '罗': True, '思': True, '源': True, '，': True, '金': True, '牌': True, '首': True, '发': True, '打': True, '野': True, '国': True, '家': True, '队': True, '3': True, '左': True, '边': True, '骆': True, '歆': True, '4': True, '5': True, '帅': True, '哥': True, '我': True, '承': True, '认': True, '了': True, '就': True, '是': True, '农': True, '友': True, '到': True, '还': True, '0': True, '大': True, '跨': True, '越': True, '的': True, '一': True, '步': True, '围': True, '棋': True, '也': True, '上': True, '过': True, '污': True, '渍': True, '为': True, '什': True, '么': True, '只': True, '有': True, '三': True, '轮': True, '啊': True, '记': True, '王': True, '者': True, '般': True, '至': True, '少': True, '五': True, '阵': True, '容': True, '怎': True, '奇': True, '怪': True, '百': True, '里': True, '守': True, '约': True, '嬴': True, '政': True, '顶': True, '着': True, '对': True, '面': True, '堆': True, '突': True, '脸': True, '拿': True, '穿': True, '去': True, 'T': True, ' ': True, 'A': True, 'B': True, 'E': True, '确': True, '实': True, '双': True, '厨': True, '狂': True, '喜': True, '谁': True, '当': True, '初': True, '质': True, '疑': True, '咱': True, '走': True, '不': True, '出': True, '世': True, '界': True, '来': True, '息': True, '排': True, '敲': True, '键': True, '盘': True, '比': True, '赛': True, '很': True, '高': True, '贵': True, '吗': True, '以': True, '后': True, '孩': True, '子': True, '们': True, '名': True, '正': True, '言': True, '顺': True, '玩': True, '荣': True, '耀': True, '你': True, '冠': True, '军': True, '亚': True, '运': True, '升': True, '旗': True, '那': True, '种': True, '他': True, '刀': True, '司': True, '命': True, '自': True, '赢': True, '恭': True, '搁': True, '儿': True, '吵': True, '因': True, '没': True, '人': True, '竞': True, '争': True, '压': True, '力': True, '小': True, '所': True, '相': True, '例': True, '手': True, '机': True, '较': True, '方': True, '便': True, '多': True, '要': True, '电': True, '脑': True, '都': True, '够': True, '外': True, '地': True, '信': True, '号': True, '9': True, '卧': True, '槽': True, '知': True, '道': True, '会': True, '震': True, '惊': True, '汤': True, '凤': True, '老': True, '师': True, '冲': True, '嗷': True, '意': True, '乒': True, '乓': True, '球': True, '准': True, '内': True, '重': True, '视': True, '技': True, '能': True, '光': True, '中': True, '干': True, '嘛': True, '（': True, '幻': True, '听': True, '）': True, '爽': True, '翻': True, '启': True, '动': True, '太': True, '优': True, '势': True, '奥': True, '敢': True, '开': True, '项': True, '目': True, '稳': True, '狗': True, '头': True, '十': True, '年': True, '列': True, '贾': True, '祝': True, '贺': True, '下': True, '吧': True, '鼻': True, '孔': True, '逼': True, '前': True, '宝': True, 'o': True, 's': True, '豆': True, '核': True, '心': True, '叫': True, '再': True, '黑': True, '病': True, '诺': True, '问': True, '句': True, '剑': True, '灵': True, '第': True, '士': True, '智': True, '慧': True, '眼': True, '神': True, '咋': True, '点': True, '兴': True, '情': True, '关': True, '系': True, '说': True, '跟': True, '起': True, '啦': True, '在': True, '火': True, '四': True, '月': True, '份': True, '腾': True, '讯': True, '办': True, '际': True, '事': True, '基': True, '本': True, '各': True, '某': True, '看': True, '才': True, '级': True, '别': True, '硬': True, '蹭': True, '最': True, '悬': True, '念': True, '次': True, '游': True, '戏': True, '锻': True, '炼': True, '身': True, '体': True, '居': True, '然': True, '酸': True, '想': True, 'i': True, 'w': True, 'n': True, 'g': True, '洲': True, '邀': True, '请': True, 'I': True, 'G': True, '兵': True, '学': True, '生': True, '梦': True, '广': True, '告': True, '宣': True, '传': True, '挺': True, '位': True, '简': True, '直': True, '碾': True, '存': True, '毫': True, '无': True, '加': True, '入': True, '味': True, '育': True, '培': True, '养': True, '及': True, '反': True, '挂': True, '法': True, '律': True, '规': True, '范': True, '化': True, '啥': True, '表': True, '演': True, '现': True, '变': True, '成': True, '倒': True, '未': True, '必': True, '占': True, '半': True, '壁': True, '江': True, '山': True, '科': True, '进': True, '虚': True, '拟': True, '融': True, '时': True, '快': True, '彻': True, '底': True, '绷': True, '住': True, '统': True, '更': True, '考': True, '验': True, '耐': True, '转': True, '几': True, '伙': True, '拘': True, '谨': True, '呢': True, '贼': True, '释': True, '怀': True, '笑': True, '《': True, '》': True, '含': True, '量': True, '魔': True, '兽': True, '霸': True, '和': True, '星': True, '\\\\': True, '/': True, '惜': True, '真': True, '被': True, '韩': True, '爆': True, '锤': True, '爷': True, '药': True, '数': True, '全': True, '集': True, '层': True, '夺': True, '率': True, '倍': True, '娱': True, '乐': True, '气': True, '白': True, '蛋': True, '红': True, '仗': True, '合': True, '理': True, '众': True, '平': True, '等': True, '歧': True, '揭': True, '精': True, '食': True, '粮': True, '已': True, '经': True, '弹': True, '幕': True, '奋': True, '逆': True, '风': True, '而': True, '庞': True, '群': True, '欢': True, '呼': True, '雀': True, '跃': True, '算': True, '沟': True, '击': True, '切': True, '提': True, '供': True, '流': True, '用': True, '强': True, '调': True, '尽': True, '皆': True, 'L': True, 'O': True, '跪': True, '撸': True, 'd': True, '?': True, 'c': True, '马': True, '呗': True, '塔': True, '毕': True, '竟': True, '攻': True, '段': True, '暄': True, '节': True, '蓝': True, '极': True, '速': True, '烧': True, '之': True, '呀': True, '街': True, '己': True, '其': True, '足': True, '明': True, '况': True, '暴': True, '木': True, '呃': True, '如': True, 'l': True, '夸': True, '张': True, '配': True, '字': True, '死': True, '俘': True, '虏': True, '行': True, 'D': True, '。': True, '搓': True, '破': True, '称': True, '公': True, '费': True, '分': True, '女': True, '性': True, '熬': True, '夜': True, '难': True, '遥': True, '领': True, '先': True, '话': True, '随': True, '析': True, '许': True, '专': True, '业': True, '吹': True, 'm': True, '叭': True, '鬼': True, '虎': True, '猴': True, '青': True, '普': True, '选': True, '远': True, '于': True, '贴': True, '膜': True, '擦': True, '玻': True, '璃': True, '肯': True, '定': True, '组': True, '伍': True, 'k': True, 'p': True, '织': True, '纪': True, '林': True, '丢': True, '投': True, '降': True, '参': True, '西': True, '铜': True, '&': True, ';': True, '拼': True, '战': True, '谢': True, '罪': True, '英': True, '雄': True, '联': True, '盟': True, '祖': True, '差': True, '距': True, '给': True, '做': True, '届': True, '热': True, '场': True, '式': True, '何': True, 'X': True, '拓': True, '宽': True, '产': True, '品': True, '销': True, '路': True, '吸': True, '引': True, '砸': True, '钱': True, '资': True, '助': True, '应': True, '该': True, '主': True, '与': True, '锋': True, '像': True, '短': True, '龟': True, '超': True, '解': True, '哪': True, '欧': True, '美': True, '东': True, '南': True, '咯': True, '播': True, '见': True, '斗': True, '登': True, '舞': True, '台': True, '散': True, '概': True, '活': True, '输': True, '嘻': True, '完': True, '结': True, '束': True, '持': True, 'f': True, '接': True, '弃': True, '幽': True, '默': True, '冥': True, '牙': True, '掉': True, '贷': True, '款': True, '邪': True, 'の': True, 'ブ': True, 'ラ': True, 'ッ': True, 'ク': True, 'ホ': True, 'ー': True, 'ル': True, 'は': True, '風': True, 'を': True, 'あ': True, 'な': True, 'た': True, 'ち': True, 'よ': True, 'う': True, 'さ': True, '黒': True, 'に': True, 'い': True, '込': True, 'み': True, '、': True, '毎': True, '日': True, '糖': True, '傷': True, 'し': True, 'て': True, 'る': True, '搞': True, '天': True, '呐': True, '回': True, '弄': True, '残': True, '指': True, '巧': True, '+': True, '候': True, '零': True, '封': True, '哭': True, '职': True, '针': True, '训': True, '练': True, '抄': True, '袭': True, '羽': True, '厉': True, '害': True, '使': True, '召': True, '唤': True, '刚': True, '售': True, '央': True, '博': True, '朋': True, '克': True, 'P': True, '识': True, '声': True, '“': True, '”': True, '…': True, '常': True, '尊': True, '属': True, '果': True, '断': True, '～': True, '预': True, '功': True, '度': True, '根': True, '毛': True, '但': True, '凡': True, '瞎': True, '泰': True, '坦': True, '尺': True, '伊': True, '拉': True, '历': True, '史': True, '枚': True, '区': True, '凉': True, '闹': True, '麻': True, '警': True, 'r': True, '离': True, '谱': True, '作': True, '孽': True, '甚': True, '.': True, '注': True, '挨': True, 'j': True, '门': True, '退': True, '役': True, '唐': True, '蚌': True, '埠': True, '嘴': True, '季': True, '歹': True, '些': True, '衡': True, 'x': True, '乌': True, '兹': True, '块': True, '遮': True, '羞': True, '布': True, '举': True, '蛐': True, '文': True, 'C': True, 'h': True, '俄': True, '飞': True, '戳': True, '杀': True, '敌': True, '代': True, '总': True, '米': True, '汉': True, '语': True, '扯': True, '胜': True, '利': True, '碰': True, '瓷': True, '服': True, '额': True, '盲': True, '猜': True, '圈': True, '奖': True, '近': True, '元': True, '包': True, '揽': True, '席': True, '棒': True, '淘': True, '汰': True, '评': True, '价': True, '将': True, '员': True, '男': True, '篮': True, '泡': True, '把': True, '菜': True, 'U': True, 'Z': True, '间': True, '晒': True, '囧': True, '轻': True, '派': True, '报': True, '两': True, '雪': True, '放': True, '冷': True, '陆': True, '宿': True, '舍': True, '早': True, '批': True, '影': True, '响': True, '喧': True, '豹': True, '鼠': True, '∶': True, '骑': True, '绝': True, '尘': True, '团': True, '-': True, '六': True, '二': True, '懂': True, '线': True, '决': True, '皮': True, '肤': True, '充': True, '买': True, '%': True, '题': True, '网': True, '瘾': True, '板': True, '术': True, '安': True, '永': True, '劫': True, '样': True, '企': True, '鹅': True, '又': True, '尖': True, '握': True, '草': True, '雷': True, '霆': True, '龙': True, '尬': True, '取': True, '消': True, '匹': True, '瞬': True, '呆': True, '闭': True, '妥': True, '@': True, 'z': True, 'y': True, 'v': True, '求': True, '彩': True, '镜': True, '纸': True, '谈': True, '纯': True, '维': True, '制': True, '卸': True, '载': True, '坐': True}\n"
     ]
    }
   ],
   "source": [
    "def text():\n",
    "     f1 = open('/Users/jindie/Desktop/video_3/v3_good.txt','r',encoding='utf-8') \n",
    "     f2 = open('/Users/jindie/Desktop/video_3/v3_bad.txt','r',encoding='utf-8')\n",
    "     line1 = f1.readline()\n",
    "     line2 = f2.readline()\n",
    "     str = ''\n",
    "     while line1:\n",
    "         str += line1\n",
    "         line1 = f1.readline()\n",
    "     while line2:\n",
    "         str += line2\n",
    "         line2 = f2.readline()\n",
    "     f1.close()\n",
    "     f2.close()\n",
    "     return str\n",
    "\n",
    "def bag_of_words(words):\n",
    "     return dict([(word,True) for word in words])\n",
    "\n",
    "print(bag_of_words(text()))"
   ]
  },
  {
   "cell_type": "code",
   "execution_count": 2,
   "id": "6f1ad6da",
   "metadata": {},
   "outputs": [
    {
     "name": "stdout",
     "output_type": "stream",
     "text": [
      "{'Ch': True, '\\\\/': True, 'して': True, 'よう': True, 'クホ': True, 'ック': True, 'ブラ': True, 'ホー': True, 'ラッ': True, 'ルは': True, 'ール': True, '世界': True, '产品': True, '企鹅': True, '但凡': True, '作孽': True, '供流': True, '信号': True, '傷し': True, '初质': True, '副编': True, '包揽': True, '博朋': True, '卧槽': True, '卸载': True, '历史': True, '厉害': True, '厨狂': True, '取消': True, '召唤': True, '四月': True, '围棋': True, '块遮': True, '培养': True, '壁江': True, '夸张': True, '嬴政': True, '守约': True, '宿舍': True, '尽皆': True, '差距': True, '广告': True, '彩镜': True, '影响': True, '承认': True, '抄袭': True, '拓宽': True, '拘谨': True, '提供': True, '握草': True, '敲键': True, '智慧': True, '月份': True, '棒淘': True, '永劫': True, '污渍': True, '泰坦': True, '淘汰': True, '爽翻': True, '玻璃': True, '病诺': True, '皮肤': True, '盲猜': True, '碰瓷': True, '祝贺': True, '离谱': True, '网瘾': True, '胜利': True, '舞台': True, '蓝极': True, '蚌埠': True, '规范': True, '训练': True, '评价': True, '豹鼠': True, '质疑': True, '贴膜': True, '贷款': True, '込み': True, '退役': True, '遮羞': True, '释怀': True, '销路': True, '锻炼': True, '雀跃': True, '零封': True, '雷霆': True, '震惊': True, '领先': True, '食粮': True, '骆歆': True, '魔兽': True, '鼠∶': True, '荣耀': True, '联盟': True, '雄联': True, '优势': True, '游戏': True, '王者': True, '体育': True, '项目': True, '幽默': True, '乒乓': True, '乓球': True, '恭喜': True, '东南': True, '腾讯': True, '闹麻': True, '冠军': True, '哈哈': True, 'ta': True, '知道': True, '已经': True, '儿吵': True, '双厨': True, '左边': True, '挂法': True, '欢呼': True, '段暄': True, '红警': True, '般至': True, '表演': True, '言顺': True, '边骆': True, '键盘': True, '阵容': True, '黑病': True, '英雄': True, '梦三': True, '碾压': True, '底层': True, '金牌': True, '专业': True, '悬念': True, '刀塔': True, '者荣': True, '+虚': True, '@U': True, 'P见': True, 'UZ': True, 'Uz': True, 'ZI': True, 'ky': True, '、毎': True, 'いる': True, 'い込': True, 'たち': True, 'ちの': True, 'てい': True, 'に吸': True, 'のよ': True, 'のブ': True, 'み、': True, 'をあ': True, '乌兹': True, '俄乌': True, '倒闭': True, '半壁': True, '半融': True, '呼雀': True, '声“': True, '席之': True, '幻听': True, '应该': True, '弹幕': True, '总奖': True, '情况': True, '扯蛋': True, '投降': True, '擦玻': True, '明情': True, '朋克': True, '束咯': True, '极速': True, '核心': True, '概率': True, '欧泡': True, '毕竟': True, '汉语': True, '洲邀': True, '演热': True, '璃板': True, '男篮': True, '结束': True, '绝尘': True, '美元': True, '羞布': True, '考验': True, '虚拟': True, '谈兵': True, '速烧': True, '降维': True, '雪放': True, '風を': True, '验耐': True, '骑绝': True, '（幻': True, '主持': True, '剑士': True, '剑灵': True, '堆突': True, '帅哥': True, '方信': True, '普及': True, '穿越': True, '组织': True, '花海': True, '跨越': True, '时候': True, '确实': True, '因为': True, '街霸': True, '什么': True, '遥领': True, 'do': True, '..': True, '冲冲': True, '司命': True, '嗷嗷': True, '嘻嘻': True, '宣传': True, '法律': True, '星际': True, 'be': True, '手机': True, '全集': True, '关注': True, '硬蹭': True, '范化': True, '自己': True, '百里': True, '平精': True, '撸狗': True, '电竞': True, '参加': True, '笑死': True, 'LO': True, '出列': True, '其他': True, '央视': True, 'あな': True, 'うな': True, 'さな': True, 'な黒': True, 'は暴': True, '伊拉': True, '使命': True, '俘虏': True, '命召': True, '场戳': True, '夜熬': True, '天呐': True, '尊贵': True, '性训': True, '惊网': True, '懂毛': True, '批段': True, '接弃': True, '接近': True, '接退': True, '攻击': True, '日糖': True, '暴雪': True, '暴風': True, '根毛': True, '段喧': True, '毎日': True, '毛线': True, '江山': True, '炼身': True, '热场': True, '熬夜': True, '甚至': True, '盘菜': True, '瞬间': True, '纪律': True, '纯属': True, '谢罪': True, '资助': True, '邀请': True, '间呆': True, '间晒': True, '随便': True, '顶尖': True, '分析': True, '当初': True, '思源': True, '疑咱': True, '罗思': True, '讯办': True, '首枚': True, '再黑': True, '干嘛': True, '方便': True, '较方': True, 'in': True, '运动': True, '……': True, '界级': True, '怎么': True, 'ot': True, '编长': True, '和平': True, '比赛': True, '兽争': True, 'OL': True, '代变': True, '候安': True, '再+': True, '凡输': True, '南棒': True, '发售': True, '孔牛': True, '己投': True, '数-': True, '更考': True, '牛逼': True, '职业': True, '融入': True, '豆哥': True, '配碰': True, '问题': True, '陆选': True, '鼻孔': True, '鼻龟': True, 'IG': True, 'たた': True, '凉凉': True, '合理': True, '听）': True, '吸い': True, '吸引': True, '呃呃': True, '妥妥': True, '娱乐': True, '幕奋': True, '心情': True, '斗蛐': True, '杀敌': True, '欧美': True, '注度': True, '消掉': True, '系统': True, '结果': True, '蛐蛐': True, '见识': True, '逆风': True, '门派': True, '份腾': True, '里守': True, '五轮': True, '奇奇': True, '奇怪': True, '宝宝': True, '怪怪': True, '可爱': True, '重视': True, '。。': True, '亚运': True, '竞技': True, '遥遥': True, '毫无': True, '排面': True, '农药': True, 'TA': True, '小孩': True, '例高': True, '凤老': True, '味着': True, '容怎': True, '海：': True, '老师': True, '老虎': True, '高兴': True, '：罗': True, '学生': True, '\":': True, ':\"': True, '选手': True, '精英': True, '变成': True, '关羽': True, '关费': True, '名字': True, '嘴硬': True, '够登': True, '安排': True, '肯定': True, '镜头': True, '旗那': True, '夺冠': True, '\",': True, '直接': True, '相对': True, '奥运': True, '灵第': True, '含金': True, '所以': True, '&g': True, '于其': True, '史首': True, '回咱': True, '地求': True, '学宿': True, '巧难': True, '幽冥': True, '强调': True, '思林': True, '断层': True, '术含': True, '样分': True, '款铜': True, '神食': True, '邪神': True, '铜&': True, 'kp': True, 'なた': True, '传统': True, '做宣': True, '像短': True, '公司': True, '告宣': True, '嘛”': True, '嘛（': True, '宣布': True, '尬p': True, '属降': True, '开男': True, '拉克': True, '搓玻': True, '爆锤': True, '蛋红': True, '逆天': True, '预言': True, '风暴': True, '可惜': True, '意味': True, '居然': True, '正言': True, '加入': True, '及反': True, '地方': True, '讯花': True, '首发': True, '队伍': True, '多少': True, '前面': True, ',\\n': True, '硬气': True, '搞笑': True, '电子': True, '第一': True, '奋力': True, '狂喜': True, '刀区': True, '刀司': True, '基本': True, '战俘': True, '资本': True, '顶着': True, '高贵': True, '争霸': True, 'X想': True, '众生': True, '对歧': True, '彻底': True, '拟现': True, '求生': True, '简直': True, '粮啦': True, '给米': True, '被零': True, '针对': True, '麻将': True, '别揭': True, '吵什': True, '节目': True, 'cs': True, '突脸': True, '记得': True, '跪下': True, '球还': True, 'TX': True, '∶稳': True, '充钱': True, '平衡': True, '必然': True, '时代': True, '正式': True, '歹用': True, '点に': True, '点攻': True, '然转': True, '然释': True, '狗贷': True, '用皮': True, '砸钱': True, '精彩': True, '转正': True, '钱买': True, '闭后': True, '黒点': True, 'w美': True, '专门': True, '主何': True, '倒变': True, '候举': True, '匹配': True, '员五': True, '引入': True, '派记': True, '男女': True, '短鼻': True, '祖星': True, '鼻祖': True, '突然': True, '轮啊': True, 'DO': True, '意思': True, '喜恭': True, '未成': True, '子竞': True, '三四': True, '出息': True, '外挂': True, '级冠': True, '压力': True, '上过': True, 'hi': True, 'zi': True, '兹最': True, '制太': True, '助进': True, '呆住': True, '团战': True, '埠住': True, '歧视': True, '着拓': True, '着甚': True, '群本': True, '袭刀': True, '距太': True, '远高': True, '高于': True, '：启': True, '刚刚': True, '属性': True, '性熬': True, '把暴': True, '播间': True, '谢谢': True, 'wi': True, '本各': True, '首铜': True, '比乒': True, 'lo': True, 'ol': True, '国内': True, '经被': True, 'ab': True, '养以': True, '打野': True, '猴子': True, '以后': True, '电脑': True, '金量': True, '农友': True, '你干': True, '南亚': True, '西亚': True, '运会': True, '去报': True, '坐那': True, '宽自': True, '流量': True, '举行': True, '公关': True, '关系': True, '兵乓': True, '匹闹': True, '占半': True, '头）': True, '完全': True, '暄解': True, '理解': True, '行斗': True, '解散': True, '预定': True, '军升': True, '内火': True, '数量': True, '化腾': True, '名正': True, '马化': True, '大跨': True, '至少': True, '我超': True, '韩国': True, '小学': True, 'OT': True, '和影': True, '年轻': True, '成功': True, '残联': True, '第二': True, '篮和': True, '要充': True, '“你': True, '亚洲': True, '要重': True, '？？': True, '来西': True, '盟已': True, '名刀': True, '几个': True, '中文': True, '集中': True, '现在': True, '他咋': True, '式项': True, '役吧': True, '很拘': True, '很离': True, '技必': True, '技术': True, '科技': True, '经常': True, '贼可': True, '之地': True, '几位': True, '分散': True, '反倒': True, '如果': True, '强度': True, '当虚': True, '斗地': True, '眼神': True, '神の': True, '绝地': True, '讯做': True, '?c': True, '刚发': True, '十指': True, '双指': True, '基数': True, '女性': True, '敢开': True, '敢称': True, '红鼻': True, '表哥': True, '中国': True, '小伙': True, '比较': True, '精神': True, '被韩': True, '长脸': True, '家凤': True, '汤家': True, '那种': True, '三国': True, '俘出': True, '与争': True, '争雷': True, '劫无': True, '响力': True, '无纪': True, '机制': True, '机飞': True, '耐力': True, '能取': True, '贵吗': True, '都不': True, '冷知': True, '呢贼': True, '瘾少': True, '皆知': True, '谁与': True, '谨呢': True, '青少': True, 'sk': True, 'x给': True, '…”': True, '想逆': True, '揭底': True, '敌…': True, '次听': True, '现眼': True, '生活': True, '白脸': True, '脸蛋': True, '被爆': True, '少五': True, '后孩': True, '队长': True, '以相': True, '子称': True, '称霸': True, '可以': True, '  ': True, '以前': True, '下回': True, '下永': True, '报道': True, '泡真': True, '伍全': True, '塔东': True, '起欢': True, '个副': True, '么鬼': True, '越到': True, '咱自': True, '难绷': True, 'bo': True, '自家': True, '国外': True, '着对': True, '很多': True, '启动': True, '小さ': True, '小巧': True, '得科': True, '之后': True, '何时': True, '平等': True, '然而': True, '狗仗': True, '狗跪': True, '竟然': True, '（狗': True, 'cc': True, '女呗': True, '话西': True, '配念': True, '棋也': True, '鬼也': True, '玩意': True, '们弄': True, '三轮': True, '们再': True, '实力': True, '别硬': True, '塔呢': True, '快啊': True, '买吗': True, '字吗': True, '尖队': True, '舍队': True, '贾队': True, '队足': True, 'm怎': True, '》、': True, '乌战': True, '仗着': True, '合着': True, '最早': True, '活着': True, '识：': True, '际普': True, '就是': True, 'ng': True, '像其': True, '分开': True, '反击': True, '如双': True, '层未': True, '当盘': True, '相反': True, '一下': True, '比例': True, '过东': True, '育项': True, '》《': True, '最后': True, '老马': True, '这个': True, '\"\"': True, 'tx': True, '请来': True, '%以': True, '以提': True, '戳手': True, '手远': True, '打哭': True, '打圈': True, '拼手': True, '挨打': True, '维打': True, '足以': True, '飞手': True, '以及': True, '发打': True, '一届': True, '为什': True, '能吹': True, '搁这': True, '。纯': True, '军差': True, '军泰': True, '季军': True, '内幕': True, '娱自': True, '总算': True, '暄那': True, '璃世': True, '盟祖': True, '而已': True, '自乐': True, '自娱': True, '蛐世': True, '那节': True, '人玩': True, '变化': True, '各种': True, '够重': True, '快更': True, '才叫': True, '指定': True, '数全': True, '更快': True, '笑话': True, '我们': True, '牌那': True, 'pl': True, '牛！': True, '大陆': True, '庞大': True, 'sf': True, '对性': True, '直播': True, '身体': True, '我承': True, '谁当': True, '\"\\n': True, '过央': True, '号都': True, '你懂': True, '你木': True, '成系': True, '死爷': True, '膜咯': True, ',\"': True, '叫你': True, '进亚': True, '马来': True, ' E': True, '句 ': True, '不知': True, '住了': True, '山上': True, '难道': True, '绷住': True, '中傷': True, '不是': True, '好像': True, '你们': True, '麻了': True, '以名': True, '没有': True, ';金': True, '奖金': True, '晒金': True, 'GO': True, 'OG': True, 'O跪': True, '呼吧': True, '实半': True, '实夸': True, '很夸': True, '很短': True, '技总': True, '挺可': True, '散吧': True, '经凉': True, '经结': True, '经验': True, 'Be': True, '些平': True, '啥表': True, '场用': True, '毛用': True, '狗丢': True, '用些': True, '腾开': True, '里搓': True, '钱请': True, '钱资': True, '地主': True, '己当': True, '强哪': True, '更强': True, '难女': True, '没关': True, '某人': True, '赛事': True, '啥意': True, '不如': True, '对面': True, 'a?': True, '两游': True, '家产': True, '来挨': True, '气起': True, '反外': True, '咱们': True, '一次': True, '吗？': True, '冠概': True, '揽冠': True, '争光': True, '争锋': True, '做梦': True, '无敌': True, '无语': True, '机杀': True, '织无': True, 'Do': True, '动会': True, 'lj': True, '在嘴': True, '在庞': True, '在弹': True, '在汉': True, '在蓝': True, '在酸': True, '存在': True, '瞎说': True, '说明': True, '国际': True, 'fi': True, 'if': True, 'i又': True, 'pi': True, '太丢': True, '太拉': True, '战场': True, '战锤': True, '日本': True, '本身': True, '熬老': True, '较》': True, '进步': True, '际服': True, '盘比': True, '牌首': True, '铜牌': True, '很高': True, '啊？': True, '量和': True, '国队': True, '少公': True, '目而': True, '知识': True, '识少': True, '门面': True, 's组': True, '兽星': True, '前哪': True, '前星': True, '发生': True, '孩参': True, '对牛': True, '干…': True, '火啦': True, '被南': True, '长得': True, '一切': True, '一句': True, '一堆': True, '一般': True, '只能': True, '战争': True, '无老': True, '这广': True, '机比': True, '国家': True, 'y上': True, '上谈': True, '么厉': True, '六个': True, '常上': True, '弄个': True, '登上': True, '纸上': True, '下乌': True, '到位': True, '挺到': True, '真光': True, '英普': True, '英等': True, '见L': True, '道结': True, '区已': True, '天去': True, '已又': True, '把自': True, '称自': True, '百分': True, '种地': True, '么奇': True, '成年': True}\n"
     ]
    }
   ],
   "source": [
    "import nltk\n",
    "from nltk.collocations import  BigramCollocationFinder\n",
    "from nltk.metrics import  BigramAssocMeasures\n",
    "\n",
    "def  bigram(words,score_fn=BigramAssocMeasures.chi_sq,n=1000):\n",
    "     bigram_finder=BigramCollocationFinder.from_words(words)  #把文本变成双词搭配的形式\n",
    "     bigrams = bigram_finder.nbest(score_fn,n)  #使用卡方统计的方法，选择排名前1000的双词\n",
    "     newBigrams = [u+v for (u,v) in bigrams]\n",
    "     return bag_of_words(newBigrams)\n",
    "     \n",
    "print(bigram(text(),score_fn=BigramAssocMeasures.chi_sq,n=1000))"
   ]
  },
  {
   "cell_type": "code",
   "execution_count": 3,
   "id": "af8a2ba4",
   "metadata": {},
   "outputs": [
    {
     "name": "stdout",
     "output_type": "stream",
     "text": [
      "{'\"': True, '6': True, ':': True, '这': True, '个': True, '副': True, '编': True, '长': True, '得': True, '好': True, '可': True, '爱': True, '哈': True, ',': True, '\\n': True, '7': True, '牛': True, '！': True, '8': True, 't': True, 'a': True, 'b': True, 'e': True, '？': True, '2': True, '1': True, '花': True, '海': True, '：': True, '罗': True, '思': True, '源': True, '，': True, '金': True, '牌': True, '首': True, '发': True, '打': True, '野': True, '国': True, '家': True, '队': True, '3': True, '左': True, '边': True, '骆': True, '歆': True, '4': True, '5': True, '帅': True, '哥': True, '我': True, '承': True, '认': True, '了': True, '就': True, '是': True, '农': True, '友': True, '到': True, '还': True, '0': True, '大': True, '跨': True, '越': True, '的': True, '一': True, '步': True, '围': True, '棋': True, '也': True, '上': True, '过': True, '污': True, '渍': True, '为': True, '什': True, '么': True, '只': True, '有': True, '三': True, '轮': True, '啊': True, '记': True, '王': True, '者': True, '般': True, '至': True, '少': True, '五': True, '阵': True, '容': True, '怎': True, '奇': True, '怪': True, '百': True, '里': True, '守': True, '约': True, '嬴': True, '政': True, '顶': True, '着': True, '对': True, '面': True, '堆': True, '突': True, '脸': True, '拿': True, '穿': True, '去': True, 'T': True, ' ': True, 'A': True, 'B': True, 'E': True, '确': True, '实': True, '双': True, '厨': True, '狂': True, '喜': True, '谁': True, '当': True, '初': True, '质': True, '疑': True, '咱': True, '走': True, '不': True, '出': True, '世': True, '界': True, '来': True, '息': True, '排': True, '敲': True, '键': True, '盘': True, '比': True, '赛': True, '很': True, '高': True, '贵': True, '吗': True, '以': True, '后': True, '孩': True, '子': True, '们': True, '名': True, '正': True, '言': True, '顺': True, '玩': True, '荣': True, '耀': True, '你': True, '冠': True, '军': True, '亚': True, '运': True, '升': True, '旗': True, '那': True, '种': True, '他': True, '刀': True, '司': True, '命': True, '自': True, '赢': True, '恭': True, '搁': True, '儿': True, '吵': True, '因': True, '没': True, '人': True, '竞': True, '争': True, '压': True, '力': True, '小': True, '所': True, '相': True, '例': True, '手': True, '机': True, '较': True, '方': True, '便': True, '多': True, '要': True, '电': True, '脑': True, '都': True, '够': True, '外': True, '地': True, '信': True, '号': True, '9': True, '卧': True, '槽': True, '知': True, '道': True, '会': True, '震': True, '惊': True, '汤': True, '凤': True, '老': True, '师': True, '冲': True, '嗷': True, '意': True, '乒': True, '乓': True, '球': True, '准': True, '内': True, '重': True, '视': True, '技': True, '能': True, '光': True, '中': True, '干': True, '嘛': True, '（': True, '幻': True, '听': True, '）': True, '爽': True, '翻': True, '启': True, '动': True, '太': True, '优': True, '势': True, '奥': True, '敢': True, '开': True, '项': True, '目': True, '稳': True, '狗': True, '头': True, '十': True, '年': True, '列': True, '贾': True, '祝': True, '贺': True, '下': True, '吧': True, '鼻': True, '孔': True, '逼': True, '前': True, '宝': True, 'o': True, 's': True, '豆': True, '核': True, '心': True, '叫': True, '再': True, '黑': True, '病': True, '诺': True, '问': True, '句': True, '剑': True, '灵': True, '第': True, '士': True, '智': True, '慧': True, '眼': True, '神': True, '咋': True, '点': True, '兴': True, '情': True, '关': True, '系': True, '说': True, '跟': True, '起': True, '啦': True, '在': True, '火': True, '四': True, '月': True, '份': True, '腾': True, '讯': True, '办': True, '际': True, '事': True, '基': True, '本': True, '各': True, '某': True, '看': True, '才': True, '级': True, '别': True, '硬': True, '蹭': True, '最': True, '悬': True, '念': True, '次': True, '游': True, '戏': True, '锻': True, '炼': True, '身': True, '体': True, '居': True, '然': True, '酸': True, '想': True, 'i': True, 'w': True, 'n': True, 'g': True, '洲': True, '邀': True, '请': True, 'I': True, 'G': True, '兵': True, '学': True, '生': True, '梦': True, '广': True, '告': True, '宣': True, '传': True, '挺': True, '位': True, '简': True, '直': True, '碾': True, '存': True, '毫': True, '无': True, '加': True, '入': True, '味': True, '育': True, '培': True, '养': True, '及': True, '反': True, '挂': True, '法': True, '律': True, '规': True, '范': True, '化': True, '啥': True, '表': True, '演': True, '现': True, '变': True, '成': True, '倒': True, '未': True, '必': True, '占': True, '半': True, '壁': True, '江': True, '山': True, '科': True, '进': True, '虚': True, '拟': True, '融': True, '时': True, '快': True, '彻': True, '底': True, '绷': True, '住': True, '统': True, '更': True, '考': True, '验': True, '耐': True, '转': True, '几': True, '伙': True, '拘': True, '谨': True, '呢': True, '贼': True, '释': True, '怀': True, '笑': True, '《': True, '》': True, '含': True, '量': True, '魔': True, '兽': True, '霸': True, '和': True, '星': True, '\\\\': True, '/': True, '惜': True, '真': True, '被': True, '韩': True, '爆': True, '锤': True, '爷': True, '药': True, '数': True, '全': True, '集': True, '层': True, '夺': True, '率': True, '倍': True, '娱': True, '乐': True, '气': True, '白': True, '蛋': True, '红': True, '仗': True, '合': True, '理': True, '众': True, '平': True, '等': True, '歧': True, '揭': True, '精': True, '食': True, '粮': True, '已': True, '经': True, '弹': True, '幕': True, '奋': True, '逆': True, '风': True, '而': True, '庞': True, '群': True, '欢': True, '呼': True, '雀': True, '跃': True, '算': True, '沟': True, '击': True, '切': True, '提': True, '供': True, '流': True, '用': True, '强': True, '调': True, '尽': True, '皆': True, 'L': True, 'O': True, '跪': True, '撸': True, 'd': True, '?': True, 'c': True, '马': True, '呗': True, '塔': True, '毕': True, '竟': True, '攻': True, '段': True, '暄': True, '节': True, '蓝': True, '极': True, '速': True, '烧': True, '之': True, '呀': True, '街': True, '己': True, '其': True, '足': True, '明': True, '况': True, '暴': True, '木': True, '呃': True, '如': True, 'l': True, '夸': True, '张': True, '配': True, '字': True, '死': True, '俘': True, '虏': True, '行': True, 'D': True, '。': True, '搓': True, '破': True, '称': True, '公': True, '费': True, '分': True, '女': True, '性': True, '熬': True, '夜': True, '难': True, '遥': True, '领': True, '先': True, '话': True, '随': True, '析': True, '许': True, '专': True, '业': True, '吹': True, 'm': True, '叭': True, '鬼': True, '虎': True, '猴': True, '青': True, '普': True, '选': True, '远': True, '于': True, '贴': True, '膜': True, '擦': True, '玻': True, '璃': True, '肯': True, '定': True, '组': True, '伍': True, 'k': True, 'p': True, '织': True, '纪': True, '林': True, '丢': True, '投': True, '降': True, '参': True, '西': True, '铜': True, '&': True, ';': True, '拼': True, '战': True, '谢': True, '罪': True, '英': True, '雄': True, '联': True, '盟': True, '祖': True, '差': True, '距': True, '给': True, '做': True, '届': True, '热': True, '场': True, '式': True, '何': True, 'X': True, '拓': True, '宽': True, '产': True, '品': True, '销': True, '路': True, '吸': True, '引': True, '砸': True, '钱': True, '资': True, '助': True, '应': True, '该': True, '主': True, '与': True, '锋': True, '像': True, '短': True, '龟': True, '超': True, '解': True, '哪': True, '欧': True, '美': True, '东': True, '南': True, '咯': True, '播': True, '见': True, '斗': True, '登': True, '舞': True, '台': True, '散': True, '概': True, '活': True, '输': True, '嘻': True, '完': True, '结': True, '束': True, '持': True, 'f': True, '接': True, '弃': True, '幽': True, '默': True, '冥': True, '牙': True, '掉': True, '贷': True, '款': True, '邪': True, 'の': True, 'ブ': True, 'ラ': True, 'ッ': True, 'ク': True, 'ホ': True, 'ー': True, 'ル': True, 'は': True, '風': True, 'を': True, 'あ': True, 'な': True, 'た': True, 'ち': True, 'よ': True, 'う': True, 'さ': True, '黒': True, 'に': True, 'い': True, '込': True, 'み': True, '、': True, '毎': True, '日': True, '糖': True, '傷': True, 'し': True, 'て': True, 'る': True, '搞': True, '天': True, '呐': True, '回': True, '弄': True, '残': True, '指': True, '巧': True, '+': True, '候': True, '零': True, '封': True, '哭': True, '职': True, '针': True, '训': True, '练': True, '抄': True, '袭': True, '羽': True, '厉': True, '害': True, '使': True, '召': True, '唤': True, '刚': True, '售': True, '央': True, '博': True, '朋': True, '克': True, 'P': True, '识': True, '声': True, '“': True, '”': True, '…': True, '常': True, '尊': True, '属': True, '果': True, '断': True, '～': True, '预': True, '功': True, '度': True, '根': True, '毛': True, '但': True, '凡': True, '瞎': True, '泰': True, '坦': True, '尺': True, '伊': True, '拉': True, '历': True, '史': True, '枚': True, '区': True, '凉': True, '闹': True, '麻': True, '警': True, 'r': True, '离': True, '谱': True, '作': True, '孽': True, '甚': True, '.': True, '注': True, '挨': True, 'j': True, '门': True, '退': True, '役': True, '唐': True, '蚌': True, '埠': True, '嘴': True, '季': True, '歹': True, '些': True, '衡': True, 'x': True, '乌': True, '兹': True, '块': True, '遮': True, '羞': True, '布': True, '举': True, '蛐': True, '文': True, 'C': True, 'h': True, '俄': True, '飞': True, '戳': True, '杀': True, '敌': True, '代': True, '总': True, '米': True, '汉': True, '语': True, '扯': True, '胜': True, '利': True, '碰': True, '瓷': True, '服': True, '额': True, '盲': True, '猜': True, '圈': True, '奖': True, '近': True, '元': True, '包': True, '揽': True, '席': True, '棒': True, '淘': True, '汰': True, '评': True, '价': True, '将': True, '员': True, '男': True, '篮': True, '泡': True, '把': True, '菜': True, 'U': True, 'Z': True, '间': True, '晒': True, '囧': True, '轻': True, '派': True, '报': True, '两': True, '雪': True, '放': True, '冷': True, '陆': True, '宿': True, '舍': True, '早': True, '批': True, '影': True, '响': True, '喧': True, '豹': True, '鼠': True, '∶': True, '骑': True, '绝': True, '尘': True, '团': True, '-': True, '六': True, '二': True, '懂': True, '线': True, '决': True, '皮': True, '肤': True, '充': True, '买': True, '%': True, '题': True, '网': True, '瘾': True, '板': True, '术': True, '安': True, '永': True, '劫': True, '样': True, '企': True, '鹅': True, '又': True, '尖': True, '握': True, '草': True, '雷': True, '霆': True, '龙': True, '尬': True, '取': True, '消': True, '匹': True, '瞬': True, '呆': True, '闭': True, '妥': True, '@': True, 'z': True, 'y': True, 'v': True, '求': True, '彩': True, '镜': True, '纸': True, '谈': True, '纯': True, '维': True, '制': True, '卸': True, '载': True, '坐': True, 'Ch': True, '\\\\/': True, 'して': True, 'よう': True, 'クホ': True, 'ック': True, 'ブラ': True, 'ホー': True, 'ラッ': True, 'ルは': True, 'ール': True, '世界': True, '产品': True, '企鹅': True, '但凡': True, '作孽': True, '供流': True, '信号': True, '傷し': True, '初质': True, '副编': True, '包揽': True, '博朋': True, '卧槽': True, '卸载': True, '历史': True, '厉害': True, '厨狂': True, '取消': True, '召唤': True, '四月': True, '围棋': True, '块遮': True, '培养': True, '壁江': True, '夸张': True, '嬴政': True, '守约': True, '宿舍': True, '尽皆': True, '差距': True, '广告': True, '彩镜': True, '影响': True, '承认': True, '抄袭': True, '拓宽': True, '拘谨': True, '提供': True, '握草': True, '敲键': True, '智慧': True, '月份': True, '棒淘': True, '永劫': True, '污渍': True, '泰坦': True, '淘汰': True, '爽翻': True, '玻璃': True, '病诺': True, '皮肤': True, '盲猜': True, '碰瓷': True, '祝贺': True, '离谱': True, '网瘾': True, '胜利': True, '舞台': True, '蓝极': True, '蚌埠': True, '规范': True, '训练': True, '评价': True, '豹鼠': True, '质疑': True, '贴膜': True, '贷款': True, '込み': True, '退役': True, '遮羞': True, '释怀': True, '销路': True, '锻炼': True, '雀跃': True, '零封': True, '雷霆': True, '震惊': True, '领先': True, '食粮': True, '骆歆': True, '魔兽': True, '鼠∶': True, '荣耀': True, '联盟': True, '雄联': True, '优势': True, '游戏': True, '王者': True, '体育': True, '项目': True, '幽默': True, '乒乓': True, '乓球': True, '恭喜': True, '东南': True, '腾讯': True, '闹麻': True, '冠军': True, '哈哈': True, 'ta': True, '知道': True, '已经': True, '儿吵': True, '双厨': True, '左边': True, '挂法': True, '欢呼': True, '段暄': True, '红警': True, '般至': True, '表演': True, '言顺': True, '边骆': True, '键盘': True, '阵容': True, '黑病': True, '英雄': True, '梦三': True, '碾压': True, '底层': True, '金牌': True, '专业': True, '悬念': True, '刀塔': True, '者荣': True, '+虚': True, '@U': True, 'P见': True, 'UZ': True, 'Uz': True, 'ZI': True, 'ky': True, '、毎': True, 'いる': True, 'い込': True, 'たち': True, 'ちの': True, 'てい': True, 'に吸': True, 'のよ': True, 'のブ': True, 'み、': True, 'をあ': True, '乌兹': True, '俄乌': True, '倒闭': True, '半壁': True, '半融': True, '呼雀': True, '声“': True, '席之': True, '幻听': True, '应该': True, '弹幕': True, '总奖': True, '情况': True, '扯蛋': True, '投降': True, '擦玻': True, '明情': True, '朋克': True, '束咯': True, '极速': True, '核心': True, '概率': True, '欧泡': True, '毕竟': True, '汉语': True, '洲邀': True, '演热': True, '璃板': True, '男篮': True, '结束': True, '绝尘': True, '美元': True, '羞布': True, '考验': True, '虚拟': True, '谈兵': True, '速烧': True, '降维': True, '雪放': True, '風を': True, '验耐': True, '骑绝': True, '（幻': True, '主持': True, '剑士': True, '剑灵': True, '堆突': True, '帅哥': True, '方信': True, '普及': True, '穿越': True, '组织': True, '花海': True, '跨越': True, '时候': True, '确实': True, '因为': True, '街霸': True, '什么': True, '遥领': True, 'do': True, '..': True, '冲冲': True, '司命': True, '嗷嗷': True, '嘻嘻': True, '宣传': True, '法律': True, '星际': True, 'be': True, '手机': True, '全集': True, '关注': True, '硬蹭': True, '范化': True, '自己': True, '百里': True, '平精': True, '撸狗': True, '电竞': True, '参加': True, '笑死': True, 'LO': True, '出列': True, '其他': True, '央视': True, 'あな': True, 'うな': True, 'さな': True, 'な黒': True, 'は暴': True, '伊拉': True, '使命': True, '俘虏': True, '命召': True, '场戳': True, '夜熬': True, '天呐': True, '尊贵': True, '性训': True, '惊网': True, '懂毛': True, '批段': True, '接弃': True, '接近': True, '接退': True, '攻击': True, '日糖': True, '暴雪': True, '暴風': True, '根毛': True, '段喧': True, '毎日': True, '毛线': True, '江山': True, '炼身': True, '热场': True, '熬夜': True, '甚至': True, '盘菜': True, '瞬间': True, '纪律': True, '纯属': True, '谢罪': True, '资助': True, '邀请': True, '间呆': True, '间晒': True, '随便': True, '顶尖': True, '分析': True, '当初': True, '思源': True, '疑咱': True, '罗思': True, '讯办': True, '首枚': True, '再黑': True, '干嘛': True, '方便': True, '较方': True, 'in': True, '运动': True, '……': True, '界级': True, '怎么': True, 'ot': True, '编长': True, '和平': True, '比赛': True, '兽争': True, 'OL': True, '代变': True, '候安': True, '再+': True, '凡输': True, '南棒': True, '发售': True, '孔牛': True, '己投': True, '数-': True, '更考': True, '牛逼': True, '职业': True, '融入': True, '豆哥': True, '配碰': True, '问题': True, '陆选': True, '鼻孔': True, '鼻龟': True, 'IG': True, 'たた': True, '凉凉': True, '合理': True, '听）': True, '吸い': True, '吸引': True, '呃呃': True, '妥妥': True, '娱乐': True, '幕奋': True, '心情': True, '斗蛐': True, '杀敌': True, '欧美': True, '注度': True, '消掉': True, '系统': True, '结果': True, '蛐蛐': True, '见识': True, '逆风': True, '门派': True, '份腾': True, '里守': True, '五轮': True, '奇奇': True, '奇怪': True, '宝宝': True, '怪怪': True, '可爱': True, '重视': True, '。。': True, '亚运': True, '竞技': True, '遥遥': True, '毫无': True, '排面': True, '农药': True, 'TA': True, '小孩': True, '例高': True, '凤老': True, '味着': True, '容怎': True, '海：': True, '老师': True, '老虎': True, '高兴': True, '：罗': True, '学生': True, '\":': True, ':\"': True, '选手': True, '精英': True, '变成': True, '关羽': True, '关费': True, '名字': True, '嘴硬': True, '够登': True, '安排': True, '肯定': True, '镜头': True, '旗那': True, '夺冠': True, '\",': True, '直接': True, '相对': True, '奥运': True, '灵第': True, '含金': True, '所以': True, '&g': True, '于其': True, '史首': True, '回咱': True, '地求': True, '学宿': True, '巧难': True, '幽冥': True, '强调': True, '思林': True, '断层': True, '术含': True, '样分': True, '款铜': True, '神食': True, '邪神': True, '铜&': True, 'kp': True, 'なた': True, '传统': True, '做宣': True, '像短': True, '公司': True, '告宣': True, '嘛”': True, '嘛（': True, '宣布': True, '尬p': True, '属降': True, '开男': True, '拉克': True, '搓玻': True, '爆锤': True, '蛋红': True, '逆天': True, '预言': True, '风暴': True, '可惜': True, '意味': True, '居然': True, '正言': True, '加入': True, '及反': True, '地方': True, '讯花': True, '首发': True, '队伍': True, '多少': True, '前面': True, ',\\n': True, '硬气': True, '搞笑': True, '电子': True, '第一': True, '奋力': True, '狂喜': True, '刀区': True, '刀司': True, '基本': True, '战俘': True, '资本': True, '顶着': True, '高贵': True, '争霸': True, 'X想': True, '众生': True, '对歧': True, '彻底': True, '拟现': True, '求生': True, '简直': True, '粮啦': True, '给米': True, '被零': True, '针对': True, '麻将': True, '别揭': True, '吵什': True, '节目': True, 'cs': True, '突脸': True, '记得': True, '跪下': True, '球还': True, 'TX': True, '∶稳': True, '充钱': True, '平衡': True, '必然': True, '时代': True, '正式': True, '歹用': True, '点に': True, '点攻': True, '然转': True, '然释': True, '狗贷': True, '用皮': True, '砸钱': True, '精彩': True, '转正': True, '钱买': True, '闭后': True, '黒点': True, 'w美': True, '专门': True, '主何': True, '倒变': True, '候举': True, '匹配': True, '员五': True, '引入': True, '派记': True, '男女': True, '短鼻': True, '祖星': True, '鼻祖': True, '突然': True, '轮啊': True, 'DO': True, '意思': True, '喜恭': True, '未成': True, '子竞': True, '三四': True, '出息': True, '外挂': True, '级冠': True, '压力': True, '上过': True, 'hi': True, 'zi': True, '兹最': True, '制太': True, '助进': True, '呆住': True, '团战': True, '埠住': True, '歧视': True, '着拓': True, '着甚': True, '群本': True, '袭刀': True, '距太': True, '远高': True, '高于': True, '：启': True, '刚刚': True, '属性': True, '性熬': True, '把暴': True, '播间': True, '谢谢': True, 'wi': True, '本各': True, '首铜': True, '比乒': True, 'lo': True, 'ol': True, '国内': True, '经被': True, 'ab': True, '养以': True, '打野': True, '猴子': True, '以后': True, '电脑': True, '金量': True, '农友': True, '你干': True, '南亚': True, '西亚': True, '运会': True, '去报': True, '坐那': True, '宽自': True, '流量': True, '举行': True, '公关': True, '关系': True, '兵乓': True, '匹闹': True, '占半': True, '头）': True, '完全': True, '暄解': True, '理解': True, '行斗': True, '解散': True, '预定': True, '军升': True, '内火': True, '数量': True, '化腾': True, '名正': True, '马化': True, '大跨': True, '至少': True, '我超': True, '韩国': True, '小学': True, 'OT': True, '和影': True, '年轻': True, '成功': True, '残联': True, '第二': True, '篮和': True, '要充': True, '“你': True, '亚洲': True, '要重': True, '？？': True, '来西': True, '盟已': True, '名刀': True, '几个': True, '中文': True, '集中': True, '现在': True, '他咋': True, '式项': True, '役吧': True, '很拘': True, '很离': True, '技必': True, '技术': True, '科技': True, '经常': True, '贼可': True, '之地': True, '几位': True, '分散': True, '反倒': True, '如果': True, '强度': True, '当虚': True, '斗地': True, '眼神': True, '神の': True, '绝地': True, '讯做': True, '?c': True, '刚发': True, '十指': True, '双指': True, '基数': True, '女性': True, '敢开': True, '敢称': True, '红鼻': True, '表哥': True, '中国': True, '小伙': True, '比较': True, '精神': True, '被韩': True, '长脸': True, '家凤': True, '汤家': True, '那种': True, '三国': True, '俘出': True, '与争': True, '争雷': True, '劫无': True, '响力': True, '无纪': True, '机制': True, '机飞': True, '耐力': True, '能取': True, '贵吗': True, '都不': True, '冷知': True, '呢贼': True, '瘾少': True, '皆知': True, '谁与': True, '谨呢': True, '青少': True, 'sk': True, 'x给': True, '…”': True, '想逆': True, '揭底': True, '敌…': True, '次听': True, '现眼': True, '生活': True, '白脸': True, '脸蛋': True, '被爆': True, '少五': True, '后孩': True, '队长': True, '以相': True, '子称': True, '称霸': True, '可以': True, '  ': True, '以前': True, '下回': True, '下永': True, '报道': True, '泡真': True, '伍全': True, '塔东': True, '起欢': True, '个副': True, '么鬼': True, '越到': True, '咱自': True, '难绷': True, 'bo': True, '自家': True, '国外': True, '着对': True, '很多': True, '启动': True, '小さ': True, '小巧': True, '得科': True, '之后': True, '何时': True, '平等': True, '然而': True, '狗仗': True, '狗跪': True, '竟然': True, '（狗': True, 'cc': True, '女呗': True, '话西': True, '配念': True, '棋也': True, '鬼也': True, '玩意': True, '们弄': True, '三轮': True, '们再': True, '实力': True, '别硬': True, '塔呢': True, '快啊': True, '买吗': True, '字吗': True, '尖队': True, '舍队': True, '贾队': True, '队足': True, 'm怎': True, '》、': True, '乌战': True, '仗着': True, '合着': True, '最早': True, '活着': True, '识：': True, '际普': True, '就是': True, 'ng': True, '像其': True, '分开': True, '反击': True, '如双': True, '层未': True, '当盘': True, '相反': True, '一下': True, '比例': True, '过东': True, '育项': True, '》《': True, '最后': True, '老马': True, '这个': True, '\"\"': True, 'tx': True, '请来': True, '%以': True, '以提': True, '戳手': True, '手远': True, '打哭': True, '打圈': True, '拼手': True, '挨打': True, '维打': True, '足以': True, '飞手': True, '以及': True, '发打': True, '一届': True, '为什': True, '能吹': True, '搁这': True, '。纯': True, '军差': True, '军泰': True, '季军': True, '内幕': True, '娱自': True, '总算': True, '暄那': True, '璃世': True, '盟祖': True, '而已': True, '自乐': True, '自娱': True, '蛐世': True, '那节': True, '人玩': True, '变化': True, '各种': True, '够重': True, '快更': True, '才叫': True, '指定': True, '数全': True, '更快': True, '笑话': True, '我们': True, '牌那': True, 'pl': True, '牛！': True, '大陆': True, '庞大': True, 'sf': True, '对性': True, '直播': True, '身体': True, '我承': True, '谁当': True, '\"\\n': True, '过央': True, '号都': True, '你懂': True, '你木': True, '成系': True, '死爷': True, '膜咯': True, ',\"': True, '叫你': True, '进亚': True, '马来': True, ' E': True, '句 ': True, '不知': True, '住了': True, '山上': True, '难道': True, '绷住': True, '中傷': True, '不是': True, '好像': True, '你们': True, '麻了': True, '以名': True, '没有': True, ';金': True, '奖金': True, '晒金': True, 'GO': True, 'OG': True, 'O跪': True, '呼吧': True, '实半': True, '实夸': True, '很夸': True, '很短': True, '技总': True, '挺可': True, '散吧': True, '经凉': True, '经结': True, '经验': True, 'Be': True, '些平': True, '啥表': True, '场用': True, '毛用': True, '狗丢': True, '用些': True, '腾开': True, '里搓': True, '钱请': True, '钱资': True, '地主': True, '己当': True, '强哪': True, '更强': True, '难女': True, '没关': True, '某人': True, '赛事': True, '啥意': True, '不如': True, '对面': True, 'a?': True, '两游': True, '家产': True, '来挨': True, '气起': True, '反外': True, '咱们': True, '一次': True, '吗？': True, '冠概': True, '揽冠': True, '争光': True, '争锋': True, '做梦': True, '无敌': True, '无语': True, '机杀': True, '织无': True, 'Do': True, '动会': True, 'lj': True, '在嘴': True, '在庞': True, '在弹': True, '在汉': True, '在蓝': True, '在酸': True, '存在': True, '瞎说': True, '说明': True, '国际': True, 'fi': True, 'if': True, 'i又': True, 'pi': True, '太丢': True, '太拉': True, '战场': True, '战锤': True, '日本': True, '本身': True, '熬老': True, '较》': True, '进步': True, '际服': True, '盘比': True, '牌首': True, '铜牌': True, '很高': True, '啊？': True, '量和': True, '国队': True, '少公': True, '目而': True, '知识': True, '识少': True, '门面': True, 's组': True, '兽星': True, '前哪': True, '前星': True, '发生': True, '孩参': True, '对牛': True, '干…': True, '火啦': True, '被南': True, '长得': True, '一切': True, '一句': True, '一堆': True, '一般': True, '只能': True, '战争': True, '无老': True, '这广': True, '机比': True, '国家': True, 'y上': True, '上谈': True, '么厉': True, '六个': True, '常上': True, '弄个': True, '登上': True, '纸上': True, '下乌': True, '到位': True, '挺到': True, '真光': True, '英普': True, '英等': True, '见L': True, '道结': True, '区已': True, '天去': True, '已又': True, '把自': True, '称自': True, '百分': True, '种地': True, '么奇': True, '成年': True}\n"
     ]
    }
   ],
   "source": [
    "def  bigram_words(words,score_fn=BigramAssocMeasures.chi_sq,n=1000):\n",
    "     bigram_finder=BigramCollocationFinder.from_words(words)\n",
    "     bigrams = bigram_finder.nbest(score_fn,n)\n",
    "     newBigrams = [u+v for (u,v) in bigrams]\n",
    "     a = bag_of_words(words)\n",
    "     b = bag_of_words(newBigrams)\n",
    "     a.update(b)  #把字典b合并到字典a中\n",
    "     return a \n",
    "\n",
    "print(bigram_words(text(),score_fn=BigramAssocMeasures.chi_sq,n=1000))"
   ]
  },
  {
   "cell_type": "code",
   "execution_count": 4,
   "id": "51a82b4e",
   "metadata": {},
   "outputs": [],
   "source": [
    "import jieba\n",
    "\n",
    "def read_file(filename):\n",
    "     stop = [line.strip() for line in  open('/Users/jindie/Desktop/video_3/hit_stopwords_v3.txt','r',encoding='utf-8').readlines()]  #停用词\n",
    "     f = open(filename,'r',encoding='utf-8')\n",
    "     line = f.readline()\n",
    "     str = []\n",
    "     while line:\n",
    "         s = line.split('\\t')\n",
    "         fenci = jieba.cut(s[0],cut_all=False)  #False默认值：精准模式\n",
    "         str.append(list(set(fenci)-set(stop)))\n",
    "         line = f.readline()\n",
    "     return str"
   ]
  },
  {
   "cell_type": "code",
   "execution_count": 5,
   "id": "43ab6756",
   "metadata": {},
   "outputs": [],
   "source": [
    "from nltk.probability import  FreqDist,ConditionalFreqDist\n",
    "from nltk.metrics import  BigramAssocMeasures\n",
    "\n",
    "def jieba_feature(number):   \n",
    "     posWords = []\n",
    "     negWords = []\n",
    "     for items in read_file('/Users/jindie/Desktop/video_3/v3_good.txt'):#把集合的集合变成集合\n",
    "         for item in items:\n",
    "            posWords.append(item)\n",
    "     for items in read_file('/Users/jindie/Desktop/video_3/v3_bad.txt'):\n",
    "         for item in items:\n",
    "            negWords.append(item)\n",
    "  \n",
    "     word_fd = FreqDist() #可统计所有词的词频\n",
    "     cond_word_fd = ConditionalFreqDist() #可统计积极文本中的词频和消极文本中的词频\n",
    "  \n",
    "     for word in posWords:\n",
    "         word_fd[word] += 1\n",
    "         cond_word_fd['pos'][word] += 1\n",
    "  \n",
    "     for word in negWords:\n",
    "         word_fd[word] += 1\n",
    "         cond_word_fd['neg'][word] += 1\n",
    "  \n",
    "     pos_word_count = cond_word_fd['pos'].N() #积极词的数量\n",
    "     neg_word_count = cond_word_fd['neg'].N() #消极词的数量\n",
    "     total_word_count = pos_word_count + neg_word_count\n",
    "  \n",
    "     word_scores = {}#包括了每个词和这个词的信息量\n",
    "  \n",
    "     for word, freq in word_fd.items():\n",
    "         pos_score = BigramAssocMeasures.chi_sq(cond_word_fd['pos'][word],  (freq, pos_word_count), total_word_count) #计算积极词的卡方统计量，这里也可以计算互信息等其它统计量\n",
    "         neg_score = BigramAssocMeasures.chi_sq(cond_word_fd['neg'][word],  (freq, neg_word_count), total_word_count) \n",
    "         word_scores[word] = pos_score + neg_score #一个词的信息量等于积极卡方统计量加上消极卡方统计量\n",
    "  \n",
    "     best_vals = sorted(word_scores.items(), key=lambda item:item[1],  reverse=True)[:number] #把词按信息量倒序排序。number是特征的维度，是可以不断调整直至最优的\n",
    "     best_words = set([w for w,s in best_vals])\n",
    "     return dict([(word, True) for word in best_words])\n",
    "\n",
    "def build_features():\n",
    "     #feature = bag_of_words(text())#第一种：单个词\n",
    "     #feature = bigram(text(),score_fn=BigramAssocMeasures.chi_sq,n=500)#第二种：双词\n",
    "     #feature =  bigram_words(text(),score_fn=BigramAssocMeasures.chi_sq,n=500)#第三种：单个词和双个词\n",
    "     feature = jieba_feature(300)#第四种：结巴分词\n",
    "  \n",
    "     posFeatures = []\n",
    "     for items in read_file('/Users/jindie/Desktop/video_3/v3_good.txt'):\n",
    "         a = {}\n",
    "         for item in items:\n",
    "            if item in feature.keys():\n",
    "                a[item]='True'\n",
    "         posWords = [a,'pos'] #为积极文本赋予\"pos\"\n",
    "         posFeatures.append(posWords)\n",
    "     negFeatures = []\n",
    "     for items in read_file('/Users/jindie/Desktop/video_3/v3_bad.txt'):\n",
    "         a = {}\n",
    "         for item in items:\n",
    "            if item in feature.keys():\n",
    "                a[item]='True'\n",
    "         negWords = [a,'neg'] #为消极文本赋予\"neg\"\n",
    "         negFeatures.append(negWords)\n",
    "     return posFeatures,negFeatures\n"
   ]
  },
  {
   "cell_type": "code",
   "execution_count": 9,
   "id": "01a1e669",
   "metadata": {},
   "outputs": [
    {
     "name": "stdout",
     "output_type": "stream",
     "text": [
      "BernoulliNB`s accuracy is 0.537500\n",
      "MultinomiaNB`s accuracy is 0.500000\n",
      "LogisticRegression`s accuracy is  0.487500\n",
      "SVC`s accuracy is 0.487500\n",
      "LinearSVC`s accuracy is 0.487500\n"
     ]
    },
    {
     "name": "stderr",
     "output_type": "stream",
     "text": [
      "/Users/jindie/anaconda3/lib/python3.11/site-packages/sklearn/svm/_classes.py:32: FutureWarning: The default value of `dual` will change from `True` to `'auto'` in 1.5. Set the value of `dual` explicitly to suppress the warning.\n",
      "  warnings.warn(\n"
     ]
    }
   ],
   "source": [
    "posFeatures,negFeatures =  build_features()\n",
    "\n",
    "from random import shuffle\n",
    "shuffle(posFeatures) \n",
    "shuffle(negFeatures) #把文本的排列随机化  \n",
    "train =  posFeatures[40:]+negFeatures[40:]#训练集(85%)\n",
    "test = posFeatures[:40]+negFeatures[:40]#验证集(15%)\n",
    "data,tag = zip(*test)#分离测试集合的数据和标签，便于验证和测试\n",
    "\n",
    "def score(classifier):\n",
    "     classifier = SklearnClassifier(classifier) \n",
    "     classifier.train(train) #训练分类器\n",
    "     pred = classifier.classify_many(data) #给出预测的标签\n",
    "     n = 0\n",
    "     s = len(pred)\n",
    "     for i in range(0,s):\n",
    "         if pred[i]==tag[i]:\n",
    "            n = n+1\n",
    "     return n/s #分类器准确度\n",
    "\n",
    "import sklearn\n",
    "from nltk.classify.scikitlearn import  SklearnClassifier\n",
    "from sklearn.svm import SVC, LinearSVC,  NuSVC\n",
    "from sklearn.naive_bayes import  MultinomialNB, BernoulliNB\n",
    "from sklearn.linear_model import  LogisticRegression\n",
    "from sklearn.metrics import  accuracy_score\n",
    "\n",
    "print('BernoulliNB`s accuracy is %f'  %score(BernoulliNB()))\n",
    "print('MultinomiaNB`s accuracy is %f'  %score(MultinomialNB()))\n",
    "print('LogisticRegression`s accuracy is  %f' %score(LogisticRegression()))\n",
    "print('SVC`s accuracy is %f'  %score(SVC()))\n",
    "print('LinearSVC`s accuracy is %f'  %score(LinearSVC()))"
   ]
  },
  {
   "cell_type": "code",
   "execution_count": null,
   "id": "84d297ea",
   "metadata": {},
   "outputs": [],
   "source": []
  }
 ],
 "metadata": {
  "kernelspec": {
   "display_name": "Python 3 (ipykernel)",
   "language": "python",
   "name": "python3"
  },
  "language_info": {
   "codemirror_mode": {
    "name": "ipython",
    "version": 3
   },
   "file_extension": ".py",
   "mimetype": "text/x-python",
   "name": "python",
   "nbconvert_exporter": "python",
   "pygments_lexer": "ipython3",
   "version": "3.11.5"
  }
 },
 "nbformat": 4,
 "nbformat_minor": 5
}
